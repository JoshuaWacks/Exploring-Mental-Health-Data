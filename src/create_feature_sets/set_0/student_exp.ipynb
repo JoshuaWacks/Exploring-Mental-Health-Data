{
 "cells": [
  {
   "cell_type": "code",
   "execution_count": 1,
   "metadata": {},
   "outputs": [],
   "source": [
    "import pandas as pd\n",
    "import numpy as np\n",
    "from sklearn.impute import SimpleImputer\n",
    "\n",
    "random_state=42"
   ]
  },
  {
   "cell_type": "markdown",
   "metadata": {},
   "source": [
    "Student Data"
   ]
  },
  {
   "cell_type": "code",
   "execution_count": null,
   "metadata": {},
   "outputs": [],
   "source": [
    "org_student_data =pd.read_csv('../../data/data_split_0/student_train_data.csv')"
   ]
  },
  {
   "cell_type": "code",
   "execution_count": 3,
   "metadata": {},
   "outputs": [],
   "source": [
    "cols_to_drop=['id','Name']"
   ]
  },
  {
   "cell_type": "code",
   "execution_count": 4,
   "metadata": {},
   "outputs": [],
   "source": [
    "for col in cols_to_drop:\n",
    "    org_student_data.drop(columns=col,inplace=True)\n"
   ]
  },
  {
   "cell_type": "code",
   "execution_count": null,
   "metadata": {},
   "outputs": [],
   "source": [
    "org_student_data.head()"
   ]
  },
  {
   "cell_type": "markdown",
   "metadata": {},
   "source": [
    "General Data cleaning"
   ]
  },
  {
   "cell_type": "code",
   "execution_count": null,
   "metadata": {},
   "outputs": [],
   "source": [
    "org_student_data['Gender'].value_counts()"
   ]
  },
  {
   "cell_type": "code",
   "execution_count": null,
   "metadata": {},
   "outputs": [],
   "source": [
    "org_student_data['Age'].value_counts()"
   ]
  },
  {
   "cell_type": "code",
   "execution_count": null,
   "metadata": {},
   "outputs": [],
   "source": [
    "org_student_data['City'].value_counts()\n"
   ]
  },
  {
   "cell_type": "code",
   "execution_count": 9,
   "metadata": {},
   "outputs": [],
   "source": [
    "\n",
    "invalid_values = ['3.0']\n",
    "org_student_data = org_student_data[~org_student_data['City'].isin(invalid_values)]\n"
   ]
  },
  {
   "cell_type": "code",
   "execution_count": null,
   "metadata": {},
   "outputs": [],
   "source": [
    "org_student_data['Academic Pressure'].value_counts()\n"
   ]
  },
  {
   "cell_type": "code",
   "execution_count": null,
   "metadata": {},
   "outputs": [],
   "source": [
    "org_student_data['Study Satisfaction'].value_counts()\n"
   ]
  },
  {
   "cell_type": "code",
   "execution_count": null,
   "metadata": {},
   "outputs": [],
   "source": [
    "org_student_data['Sleep Duration'].value_counts()\n"
   ]
  },
  {
   "cell_type": "code",
   "execution_count": 13,
   "metadata": {},
   "outputs": [],
   "source": [
    "org_student_data.loc[org_student_data['Sleep Duration'] == '10-11 hours','Sleep Duration'] = 'More than 8 hours'\n",
    "org_student_data.loc[org_student_data['Sleep Duration'] == '2-3 hours','Sleep Duration'] = 'Less than 5 hours'\n",
    "org_student_data.loc[org_student_data['Sleep Duration'] == '3-4 hours','Sleep Duration'] = 'Less than 5 hours'\n",
    "org_student_data.loc[org_student_data['Sleep Duration'] == '1-2 hours','Sleep Duration'] = 'Less than 5 hours'\n",
    "org_student_data.loc[org_student_data['Sleep Duration'] == '4-5 hours','Sleep Duration'] = 'Less than 5 hours'\n",
    "\n",
    "org_student_data.loc[org_student_data['Sleep Duration'] == 'Moderate','Sleep Duration'] = '7-8 hours'\n",
    "org_student_data.loc[org_student_data['Sleep Duration'] == '8 hours','Sleep Duration'] = 'More than 8 hours'\n",
    "\n",
    "invalid_values = ['40-45 hours','55-66 hours','than 5 hours','45']\n",
    "org_student_data = org_student_data[~org_student_data['Sleep Duration'].isin(invalid_values)]\n"
   ]
  },
  {
   "cell_type": "code",
   "execution_count": null,
   "metadata": {},
   "outputs": [],
   "source": [
    "org_student_data['Sleep Duration'].value_counts()\n"
   ]
  },
  {
   "cell_type": "code",
   "execution_count": null,
   "metadata": {},
   "outputs": [],
   "source": [
    "org_student_data['Dietary Habits'].value_counts()"
   ]
  },
  {
   "cell_type": "code",
   "execution_count": 16,
   "metadata": {},
   "outputs": [],
   "source": [
    "org_student_data.loc[org_student_data['Dietary Habits'] == 'Less than Healthy','Dietary Habits'] = 'Unhealthy'\n",
    "org_student_data.loc[org_student_data['Dietary Habits'] == 'No Healthy','Dietary Habits'] = 'Unhealthy'\n",
    "org_student_data.loc[org_student_data['Dietary Habits'] == 'Less Healthy','Dietary Habits'] = 'Unhealthy'\n",
    "\n",
    "\n",
    "invalid_values = ['3','Mihir','1.0','M.Tech','Male','Yes','2']\n",
    "org_student_data = org_student_data[~org_student_data['Dietary Habits'].isin(invalid_values)]\n"
   ]
  },
  {
   "cell_type": "code",
   "execution_count": null,
   "metadata": {},
   "outputs": [],
   "source": [
    "org_student_data['Dietary Habits'].value_counts()"
   ]
  },
  {
   "cell_type": "code",
   "execution_count": 18,
   "metadata": {},
   "outputs": [],
   "source": [
    "pd.set_option('display.max_rows', 500)"
   ]
  },
  {
   "cell_type": "code",
   "execution_count": null,
   "metadata": {},
   "outputs": [],
   "source": [
    "org_student_data['Degree'].value_counts()\n"
   ]
  },
  {
   "cell_type": "code",
   "execution_count": 20,
   "metadata": {},
   "outputs": [],
   "source": [
    "invalid_values = ['B','24','7.06','M','20','0','8.56']\n",
    "org_student_data = org_student_data[~org_student_data['Degree'].isin(invalid_values)]\n"
   ]
  },
  {
   "cell_type": "code",
   "execution_count": null,
   "metadata": {},
   "outputs": [],
   "source": [
    "org_student_data['Degree'].value_counts()\n"
   ]
  },
  {
   "cell_type": "code",
   "execution_count": null,
   "metadata": {},
   "outputs": [],
   "source": [
    "org_student_data['Have you ever had suicidal thoughts ?'].value_counts()\n"
   ]
  },
  {
   "cell_type": "code",
   "execution_count": null,
   "metadata": {},
   "outputs": [],
   "source": [
    "org_student_data['Work/Study Hours'].value_counts()\n"
   ]
  },
  {
   "cell_type": "code",
   "execution_count": null,
   "metadata": {},
   "outputs": [],
   "source": [
    "org_student_data['Depression'].value_counts()\n"
   ]
  },
  {
   "cell_type": "code",
   "execution_count": null,
   "metadata": {},
   "outputs": [],
   "source": [
    "org_student_data.columns.to_list()"
   ]
  },
  {
   "cell_type": "code",
   "execution_count": null,
   "metadata": {},
   "outputs": [],
   "source": [
    "org_student_data.isnull().mean() * 100"
   ]
  },
  {
   "cell_type": "code",
   "execution_count": 27,
   "metadata": {},
   "outputs": [],
   "source": [
    "imputer = SimpleImputer(missing_values=np.nan,strategy='mean')"
   ]
  },
  {
   "cell_type": "code",
   "execution_count": 28,
   "metadata": {},
   "outputs": [],
   "source": [
    "temp = imputer.fit_transform(org_student_data[['Academic Pressure']])"
   ]
  },
  {
   "cell_type": "code",
   "execution_count": null,
   "metadata": {},
   "outputs": [],
   "source": [
    "sum(pd.isnull(temp))"
   ]
  },
  {
   "cell_type": "markdown",
   "metadata": {},
   "source": [
    "Look at IterativeImputer"
   ]
  },
  {
   "cell_type": "code",
   "execution_count": 36,
   "metadata": {},
   "outputs": [],
   "source": [
    "def get_column_types(df):\n",
    "    categorical_cols = []\n",
    "    numeric_cols = []\n",
    "\n",
    "    for col in df.columns:\n",
    "        if df[col].dtype == object:\n",
    "            categorical_cols.append(col)\n",
    "        else:\n",
    "            numeric_cols.append(col)\n",
    "\n",
    "    return numeric_cols,categorical_cols\n",
    "\n",
    "def fill_in_missing_values(df):\n",
    "\n",
    "    numeric_cols,categorical_cols = get_column_types(df)\n",
    "\n",
    "    imputer = SimpleImputer(missing_values=np.nan,strategy='median')\n",
    "\n",
    "    for col in numeric_cols:\n",
    "        if sum(pd.isnull(df[col])) > 0:\n",
    "            df[col] = imputer.fit_transform(df[[col]])\n",
    "\n",
    "def fill_in_missing_cat_values(df):\n",
    "    \n",
    "    numeric_cols,categorical_cols = get_column_types(df)\n",
    "\n",
    "\n",
    "    for col in categorical_cols:\n",
    "        df[col] = df[col].fillna(df[col].mode().iloc[0])"
   ]
  },
  {
   "cell_type": "code",
   "execution_count": 38,
   "metadata": {},
   "outputs": [],
   "source": [
    "df = fill_in_missing_cat_values(org_student_data)"
   ]
  },
  {
   "cell_type": "code",
   "execution_count": 12,
   "metadata": {},
   "outputs": [],
   "source": [
    "numeric_cols,categorical_cols = get_column_types(org_student_data)"
   ]
  },
  {
   "cell_type": "code",
   "execution_count": null,
   "metadata": {},
   "outputs": [],
   "source": [
    "for col in categorical_cols:\n",
    "    freq = org_student_data[col].value_counts(normalize= True)\n",
    "    org_student_data[F\"{col}_encoded\"] = org_student_data[col].map(freq)"
   ]
  },
  {
   "cell_type": "code",
   "execution_count": null,
   "metadata": {},
   "outputs": [],
   "source": [
    "org_student_data.head()"
   ]
  },
  {
   "cell_type": "code",
   "execution_count": 65,
   "metadata": {},
   "outputs": [],
   "source": [
    "temp = fill_in_missing_values(org_student_data)"
   ]
  },
  {
   "cell_type": "code",
   "execution_count": null,
   "metadata": {},
   "outputs": [],
   "source": [
    "temp[temp.isnull().any(axis=1)]"
   ]
  },
  {
   "cell_type": "code",
   "execution_count": null,
   "metadata": {},
   "outputs": [],
   "source": [
    "temp"
   ]
  }
 ],
 "metadata": {
  "kernelspec": {
   "display_name": "predictorEnv",
   "language": "python",
   "name": "python3"
  },
  "language_info": {
   "codemirror_mode": {
    "name": "ipython",
    "version": 3
   },
   "file_extension": ".py",
   "mimetype": "text/x-python",
   "name": "python",
   "nbconvert_exporter": "python",
   "pygments_lexer": "ipython3",
   "version": "3.10.13"
  }
 },
 "nbformat": 4,
 "nbformat_minor": 2
}
