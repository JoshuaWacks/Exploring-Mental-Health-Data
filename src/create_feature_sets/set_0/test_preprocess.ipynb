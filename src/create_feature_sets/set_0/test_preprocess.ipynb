{
 "cells": [
  {
   "cell_type": "code",
   "execution_count": 1,
   "metadata": {},
   "outputs": [],
   "source": [
    "import pandas as pd\n",
    "import numpy as np\n",
    "from sklearn.impute import SimpleImputer"
   ]
  },
  {
   "cell_type": "code",
   "execution_count": 2,
   "metadata": {},
   "outputs": [],
   "source": [
    "org_test_data =pd.read_csv('../../data/original_data/test.csv')"
   ]
  },
  {
   "cell_type": "code",
   "execution_count": 3,
   "metadata": {},
   "outputs": [],
   "source": [
    "cols_to_drop=['Name']\n",
    "for col in cols_to_drop:\n",
    "    org_test_data.drop(columns=col,inplace=True)\n"
   ]
  },
  {
   "cell_type": "code",
   "execution_count": null,
   "metadata": {},
   "outputs": [],
   "source": [
    "org_test_data.head()"
   ]
  },
  {
   "cell_type": "code",
   "execution_count": 5,
   "metadata": {},
   "outputs": [],
   "source": [
    "org_test_data.loc[org_test_data['Profession'] == 'Medical Doctor','Profession'] = 'Doctor'\n"
   ]
  },
  {
   "cell_type": "code",
   "execution_count": 6,
   "metadata": {},
   "outputs": [],
   "source": [
    "org_test_data.loc[org_test_data['Sleep Duration'] == '2-3 hours','Sleep Duration'] = 'Less than 5 hours'\n",
    "org_test_data.loc[org_test_data['Sleep Duration'] == '3-4 hours','Sleep Duration'] = 'Less than 5 hours'\n",
    "org_test_data.loc[org_test_data['Sleep Duration'] == '1-2 hours','Sleep Duration'] = 'Less than 5 hours'\n",
    "org_test_data.loc[org_test_data['Sleep Duration'] == '4-5 hours','Sleep Duration'] = 'Less than 5 hours'\n",
    "org_test_data.loc[org_test_data['Sleep Duration'] == '4-6 hours','Sleep Duration'] = 'Less than 5 hours'\n",
    "org_test_data.loc[org_test_data['Sleep Duration'] == '1-6 hours','Sleep Duration'] = 'Less than 5 hours'\n",
    "org_test_data.loc[org_test_data['Sleep Duration'] == '2-3 hours','Sleep Duration'] = 'Less than 5 hours'\n",
    "org_test_data.loc[org_test_data['Sleep Duration'] == 'Unhealthy','Sleep Duration'] = 'Less than 5 hours'\n",
    "org_test_data.loc[org_test_data['Sleep Duration'] == '3-6 hours','Sleep Duration'] = 'Less than 5 hours'\n",
    "org_test_data.loc[org_test_data['Sleep Duration'] == '1-3 hours','Sleep Duration'] = 'Less than 5 hours'\n",
    "\n",
    "\n",
    "org_test_data.loc[org_test_data['Sleep Duration'] == '6-8 hours','Sleep Duration'] = '7-8 hours'\n",
    "org_test_data.loc[org_test_data['Sleep Duration'] == '10-6 hours','Sleep Duration'] = '7-8 hours'\n",
    "org_test_data.loc[org_test_data['Sleep Duration'] == '9-6 hours','Sleep Duration'] = '7-8 hours'\n",
    "org_test_data.loc[org_test_data['Sleep Duration'] == 'Moderate','Sleep Duration'] = '7-8 hours'\n",
    "\n",
    "\n",
    "org_test_data.loc[org_test_data['Sleep Duration'] == '6-7 hours','Sleep Duration'] = '5-6 hours'\n",
    "org_test_data.loc[org_test_data['Sleep Duration'] == '9-5 hours','Sleep Duration'] = '5-6 hours'\n",
    "org_test_data.loc[org_test_data['Sleep Duration'] == '9-5 hours','Sleep Duration'] = '5-6 hours'\n",
    "org_test_data.loc[org_test_data['Sleep Duration'] == '9-5','Sleep Duration'] = '5-6 hours'\n",
    "\n",
    "org_test_data.loc[org_test_data['Sleep Duration'] == '9-11 hours','Sleep Duration'] = 'More than 8 hours'\n",
    "org_test_data.loc[org_test_data['Sleep Duration'] == '8-9 hours','Sleep Duration'] = 'More than 8 hours'\n",
    "org_test_data.loc[org_test_data['Sleep Duration'] == '10-11 hours','Sleep Duration'] = 'More than 8 hours'\n",
    "org_test_data.loc[org_test_data['Sleep Duration'] == '8 hours','Sleep Duration'] = 'More than 8 hours'\n"
   ]
  },
  {
   "cell_type": "code",
   "execution_count": 7,
   "metadata": {},
   "outputs": [],
   "source": [
    "org_test_data.loc[org_test_data['Dietary Habits'] == 'More Healthy','Dietary Habits'] = 'Healthy'\n",
    "org_test_data.loc[org_test_data['Dietary Habits'] == 'Less than Healthy','Dietary Habits'] = 'Unhealthy'\n",
    "org_test_data.loc[org_test_data['Dietary Habits'] == 'No Healthy','Dietary Habits'] = 'Unhealthy'\n",
    "org_test_data.loc[org_test_data['Dietary Habits'] == 'Less Healthy','Dietary Habits'] = 'Unhealthy'\n"
   ]
  },
  {
   "cell_type": "code",
   "execution_count": 8,
   "metadata": {},
   "outputs": [],
   "source": [
    "org_test_data.loc[org_test_data['Degree'] == 'Doctor','Degree'] = 'MD'\n"
   ]
  },
  {
   "cell_type": "code",
   "execution_count": 9,
   "metadata": {},
   "outputs": [],
   "source": [
    "org_student_data =pd.read_csv('../../data/data_split_0/student_train_data.csv')\n",
    "org_prof_data =pd.read_csv('../../data/data_split_0/prof_train_data.csv')"
   ]
  },
  {
   "cell_type": "code",
   "execution_count": 10,
   "metadata": {},
   "outputs": [],
   "source": [
    "imputer = SimpleImputer(missing_values=np.nan,strategy='median')\n"
   ]
  }
 ],
 "metadata": {
  "kernelspec": {
   "display_name": "predictorEnv",
   "language": "python",
   "name": "python3"
  },
  "language_info": {
   "codemirror_mode": {
    "name": "ipython",
    "version": 3
   },
   "file_extension": ".py",
   "mimetype": "text/x-python",
   "name": "python",
   "nbconvert_exporter": "python",
   "pygments_lexer": "ipython3",
   "version": "3.10.13"
  }
 },
 "nbformat": 4,
 "nbformat_minor": 2
}
