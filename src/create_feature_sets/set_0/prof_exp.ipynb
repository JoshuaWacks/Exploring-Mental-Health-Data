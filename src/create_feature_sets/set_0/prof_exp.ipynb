{
 "cells": [
  {
   "cell_type": "code",
   "execution_count": 27,
   "metadata": {},
   "outputs": [],
   "source": [
    "import pandas as pd\n",
    "import numpy as np"
   ]
  },
  {
   "cell_type": "code",
   "execution_count": 4,
   "metadata": {},
   "outputs": [],
   "source": []
  },
  {
   "cell_type": "code",
   "execution_count": 8,
   "metadata": {},
   "outputs": [
    {
     "data": {
      "text/html": [
       "<div>\n",
       "<style scoped>\n",
       "    .dataframe tbody tr th:only-of-type {\n",
       "        vertical-align: middle;\n",
       "    }\n",
       "\n",
       "    .dataframe tbody tr th {\n",
       "        vertical-align: top;\n",
       "    }\n",
       "\n",
       "    .dataframe thead th {\n",
       "        text-align: right;\n",
       "    }\n",
       "</style>\n",
       "<table border=\"1\" class=\"dataframe\">\n",
       "  <thead>\n",
       "    <tr style=\"text-align: right;\">\n",
       "      <th></th>\n",
       "      <th>Gender</th>\n",
       "      <th>Age</th>\n",
       "      <th>City</th>\n",
       "      <th>Profession</th>\n",
       "      <th>Work Pressure</th>\n",
       "      <th>Job Satisfaction</th>\n",
       "      <th>Sleep Duration</th>\n",
       "      <th>Dietary Habits</th>\n",
       "      <th>Degree</th>\n",
       "      <th>Have you ever had suicidal thoughts ?</th>\n",
       "      <th>Work/Study Hours</th>\n",
       "      <th>Financial Stress</th>\n",
       "      <th>Family History of Mental Illness</th>\n",
       "      <th>Depression</th>\n",
       "    </tr>\n",
       "  </thead>\n",
       "  <tbody>\n",
       "    <tr>\n",
       "      <th>0</th>\n",
       "      <td>Female</td>\n",
       "      <td>49.0</td>\n",
       "      <td>Ludhiana</td>\n",
       "      <td>Chef</td>\n",
       "      <td>5.0</td>\n",
       "      <td>2.0</td>\n",
       "      <td>More than 8 hours</td>\n",
       "      <td>Healthy</td>\n",
       "      <td>BHM</td>\n",
       "      <td>No</td>\n",
       "      <td>1.0</td>\n",
       "      <td>2.0</td>\n",
       "      <td>No</td>\n",
       "      <td>0</td>\n",
       "    </tr>\n",
       "    <tr>\n",
       "      <th>1</th>\n",
       "      <td>Male</td>\n",
       "      <td>26.0</td>\n",
       "      <td>Varanasi</td>\n",
       "      <td>Teacher</td>\n",
       "      <td>4.0</td>\n",
       "      <td>3.0</td>\n",
       "      <td>Less than 5 hours</td>\n",
       "      <td>Unhealthy</td>\n",
       "      <td>LLB</td>\n",
       "      <td>Yes</td>\n",
       "      <td>7.0</td>\n",
       "      <td>3.0</td>\n",
       "      <td>No</td>\n",
       "      <td>1</td>\n",
       "    </tr>\n",
       "    <tr>\n",
       "      <th>2</th>\n",
       "      <td>Male</td>\n",
       "      <td>22.0</td>\n",
       "      <td>Mumbai</td>\n",
       "      <td>Teacher</td>\n",
       "      <td>5.0</td>\n",
       "      <td>1.0</td>\n",
       "      <td>Less than 5 hours</td>\n",
       "      <td>Moderate</td>\n",
       "      <td>BBA</td>\n",
       "      <td>Yes</td>\n",
       "      <td>10.0</td>\n",
       "      <td>1.0</td>\n",
       "      <td>Yes</td>\n",
       "      <td>1</td>\n",
       "    </tr>\n",
       "    <tr>\n",
       "      <th>3</th>\n",
       "      <td>Female</td>\n",
       "      <td>30.0</td>\n",
       "      <td>Kanpur</td>\n",
       "      <td>Business Analyst</td>\n",
       "      <td>1.0</td>\n",
       "      <td>1.0</td>\n",
       "      <td>5-6 hours</td>\n",
       "      <td>Unhealthy</td>\n",
       "      <td>BBA</td>\n",
       "      <td>Yes</td>\n",
       "      <td>9.0</td>\n",
       "      <td>4.0</td>\n",
       "      <td>Yes</td>\n",
       "      <td>0</td>\n",
       "    </tr>\n",
       "    <tr>\n",
       "      <th>4</th>\n",
       "      <td>Female</td>\n",
       "      <td>59.0</td>\n",
       "      <td>Ahmedabad</td>\n",
       "      <td>Finanancial Analyst</td>\n",
       "      <td>2.0</td>\n",
       "      <td>5.0</td>\n",
       "      <td>5-6 hours</td>\n",
       "      <td>Healthy</td>\n",
       "      <td>MCA</td>\n",
       "      <td>No</td>\n",
       "      <td>7.0</td>\n",
       "      <td>5.0</td>\n",
       "      <td>No</td>\n",
       "      <td>0</td>\n",
       "    </tr>\n",
       "  </tbody>\n",
       "</table>\n",
       "</div>"
      ],
      "text/plain": [
       "   Gender   Age       City           Profession  Work Pressure  \\\n",
       "0  Female  49.0   Ludhiana                 Chef            5.0   \n",
       "1    Male  26.0   Varanasi              Teacher            4.0   \n",
       "2    Male  22.0     Mumbai              Teacher            5.0   \n",
       "3  Female  30.0     Kanpur     Business Analyst            1.0   \n",
       "4  Female  59.0  Ahmedabad  Finanancial Analyst            2.0   \n",
       "\n",
       "   Job Satisfaction     Sleep Duration Dietary Habits Degree  \\\n",
       "0               2.0  More than 8 hours        Healthy    BHM   \n",
       "1               3.0  Less than 5 hours      Unhealthy    LLB   \n",
       "2               1.0  Less than 5 hours       Moderate    BBA   \n",
       "3               1.0          5-6 hours      Unhealthy    BBA   \n",
       "4               5.0          5-6 hours        Healthy    MCA   \n",
       "\n",
       "  Have you ever had suicidal thoughts ?  Work/Study Hours  Financial Stress  \\\n",
       "0                                    No               1.0               2.0   \n",
       "1                                   Yes               7.0               3.0   \n",
       "2                                   Yes              10.0               1.0   \n",
       "3                                   Yes               9.0               4.0   \n",
       "4                                    No               7.0               5.0   \n",
       "\n",
       "  Family History of Mental Illness  Depression  \n",
       "0                               No           0  \n",
       "1                               No           1  \n",
       "2                              Yes           1  \n",
       "3                              Yes           0  \n",
       "4                               No           0  "
      ]
     },
     "execution_count": 8,
     "metadata": {},
     "output_type": "execute_result"
    }
   ],
   "source": [
    "org_prof_data.head()"
   ]
  },
  {
   "cell_type": "code",
   "execution_count": 6,
   "metadata": {},
   "outputs": [
    {
     "data": {
      "text/plain": [
       "Index(['id', 'Name', 'Gender', 'Age', 'City', 'Profession', 'Work Pressure',\n",
       "       'Job Satisfaction', 'Sleep Duration', 'Dietary Habits', 'Degree',\n",
       "       'Have you ever had suicidal thoughts ?', 'Work/Study Hours',\n",
       "       'Financial Stress', 'Family History of Mental Illness', 'Depression'],\n",
       "      dtype='object')"
      ]
     },
     "execution_count": 6,
     "metadata": {},
     "output_type": "execute_result"
    }
   ],
   "source": [
    "org_prof_data.columns"
   ]
  },
  {
   "cell_type": "code",
   "execution_count": 7,
   "metadata": {},
   "outputs": [],
   "source": [
    "cols_to_drop=['id','Name']\n",
    "for col in cols_to_drop:\n",
    "    org_prof_data.drop(columns=col,inplace=True)\n"
   ]
  },
  {
   "cell_type": "code",
   "execution_count": 9,
   "metadata": {},
   "outputs": [
    {
     "data": {
      "text/plain": [
       "Gender\n",
       "Male      61917\n",
       "Female    50882\n",
       "Name: count, dtype: int64"
      ]
     },
     "execution_count": 9,
     "metadata": {},
     "output_type": "execute_result"
    }
   ],
   "source": [
    "org_prof_data['Gender'].value_counts()\n"
   ]
  },
  {
   "cell_type": "code",
   "execution_count": 10,
   "metadata": {},
   "outputs": [
    {
     "data": {
      "text/plain": [
       "Age\n",
       "56.0    5245\n",
       "49.0    5098\n",
       "38.0    4556\n",
       "53.0    4526\n",
       "57.0    4395\n",
       "47.0    4199\n",
       "46.0    4078\n",
       "54.0    3927\n",
       "51.0    3926\n",
       "43.0    3854\n",
       "59.0    3780\n",
       "48.0    3692\n",
       "45.0    3535\n",
       "50.0    3439\n",
       "42.0    3389\n",
       "39.0    3259\n",
       "44.0    3216\n",
       "41.0    3139\n",
       "40.0    3094\n",
       "58.0    2931\n",
       "55.0    2846\n",
       "35.0    2824\n",
       "37.0    2722\n",
       "36.0    2696\n",
       "52.0    2589\n",
       "60.0    2501\n",
       "18.0    2334\n",
       "20.0    1278\n",
       "23.0    1255\n",
       "33.0    1247\n",
       "28.0    1205\n",
       "27.0    1151\n",
       "25.0    1147\n",
       "29.0    1147\n",
       "31.0    1133\n",
       "34.0    1110\n",
       "24.0    1097\n",
       "19.0    1074\n",
       "21.0    1016\n",
       "26.0     953\n",
       "22.0     906\n",
       "30.0     767\n",
       "32.0     523\n",
       "Name: count, dtype: int64"
      ]
     },
     "execution_count": 10,
     "metadata": {},
     "output_type": "execute_result"
    }
   ],
   "source": [
    "org_prof_data['Age'].value_counts()\n"
   ]
  },
  {
   "cell_type": "code",
   "execution_count": 13,
   "metadata": {},
   "outputs": [
    {
     "data": {
      "text/plain": [
       "City\n",
       "Kalyan           5021\n",
       "Patna            4917\n",
       "Meerut           4703\n",
       "Ahmedabad        4662\n",
       "Kolkata          4623\n",
       "Vasai-Virar      4475\n",
       "Rajkot           4391\n",
       "Mumbai           4267\n",
       "Pune             4242\n",
       "Indore           4229\n",
       "Visakhapatnam    4207\n",
       "Ludhiana         4115\n",
       "Varanasi         3921\n",
       "Vadodara         3874\n",
       "Kanpur           3789\n",
       "Srinagar         3702\n",
       "Agra             3590\n",
       "Surat            3558\n",
       "Nagpur           3558\n",
       "Bangalore        3356\n",
       "Jaipur           3292\n",
       "Chennai          3159\n",
       "Hyderabad        3156\n",
       "Thane            3150\n",
       "Lucknow          3125\n",
       "Ghaziabad        2875\n",
       "Delhi            2825\n",
       "Faridabad        2807\n",
       "Nashik           2597\n",
       "Bhopal           2541\n",
       "Mihir               6\n",
       "Mahi                3\n",
       "Vidya               3\n",
       "Pratyush            3\n",
       "Nandini             3\n",
       "Keshav              2\n",
       "Ayush               2\n",
       "Atharv              2\n",
       "Molkata             2\n",
       "MCA                 2\n",
       "Aishwarya           1\n",
       "Kagan               1\n",
       "Chhavi              1\n",
       "Parth               1\n",
       "Ishanabad           1\n",
       "Tushar              1\n",
       "MSc                 1\n",
       "No                  1\n",
       "Researcher          1\n",
       "Armaan              1\n",
       "Kashish             1\n",
       "Ithal               1\n",
       "Dhruv               1\n",
       "Galesabad           1\n",
       "Itheg               1\n",
       "Saanvi              1\n",
       "Aaradhya            1\n",
       "Pooja               1\n",
       "Khushi              1\n",
       "Jhanvi              1\n",
       "Vaishnavi           1\n",
       "Shrey               1\n",
       "Bhavna              1\n",
       "Ivaan               1\n",
       "Harsha              1\n",
       "Nalini              1\n",
       "Aditya              1\n",
       "Malyansh            1\n",
       "Raghavendra         1\n",
       "Krishna             1\n",
       "M.Com               1\n",
       "Plata               1\n",
       "Gurgaon             1\n",
       "Moreadhyay          1\n",
       "Morena              1\n",
       "Ishkarsh            1\n",
       "Kashk               1\n",
       "City                1\n",
       "Vidhi               1\n",
       "Tolkata             1\n",
       "Anvi                1\n",
       "Krinda              1\n",
       "Ayansh              1\n",
       "Unirar              1\n",
       "Name: count, dtype: int64"
      ]
     },
     "execution_count": 13,
     "metadata": {},
     "output_type": "execute_result"
    }
   ],
   "source": [
    "org_prof_data['City'].value_counts()\n"
   ]
  },
  {
   "cell_type": "code",
   "execution_count": 14,
   "metadata": {},
   "outputs": [
    {
     "data": {
      "text/plain": [
       "Profession\n",
       "Teacher                   24900\n",
       "Content Writer             7812\n",
       "Architect                  4362\n",
       "Consultant                 4229\n",
       "HR Manager                 4022\n",
       "Pharmacist                 3891\n",
       "Doctor                     3253\n",
       "Business Analyst           3161\n",
       "Chemist                    2967\n",
       "Entrepreneur               2967\n",
       "Chef                       2860\n",
       "Educational Consultant     2851\n",
       "Data Scientist             2390\n",
       "Researcher                 2328\n",
       "Lawyer                     2211\n",
       "Customer Support           2055\n",
       "Marketing Manager          1976\n",
       "Pilot                      1913\n",
       "Travel Consultant          1860\n",
       "Plumber                    1748\n",
       "Sales Executive            1739\n",
       "Manager                    1736\n",
       "Judge                      1712\n",
       "Electrician                1582\n",
       "Financial Analyst          1574\n",
       "Software Engineer          1510\n",
       "Civil Engineer             1469\n",
       "UX/UI Designer             1451\n",
       "Digital Marketer           1369\n",
       "Accountant                 1339\n",
       "Finanancial Analyst        1329\n",
       "Mechanical Engineer        1177\n",
       "Graphic Designer           1163\n",
       "Research Analyst            690\n",
       "Investment Banker           393\n",
       "Academic                      5\n",
       "Student                       4\n",
       "Profession                    3\n",
       "Yogesh                        3\n",
       "BCA                           3\n",
       "Unemployed                    3\n",
       "LLM                           2\n",
       "PhD                           2\n",
       "MBA                           2\n",
       "Dev                           1\n",
       "BE                            1\n",
       "Family Consultant             1\n",
       "Visakhapatnam                 1\n",
       "Pranav                        1\n",
       "Analyst                       1\n",
       "M.Ed                          1\n",
       "Moderate                      1\n",
       "Nagpur                        1\n",
       "B.Ed                          1\n",
       "Unveil                        1\n",
       "Patna                         1\n",
       "MBBS                          1\n",
       "Working Professional          1\n",
       "Medical Doctor                1\n",
       "BBA                           1\n",
       "City Manager                  1\n",
       "FamilyVirar                   1\n",
       "B.Com                         1\n",
       "Yuvraj                        1\n",
       "Name: count, dtype: int64"
      ]
     },
     "execution_count": 14,
     "metadata": {},
     "output_type": "execute_result"
    }
   ],
   "source": [
    "org_prof_data['Profession'].value_counts()\n"
   ]
  },
  {
   "cell_type": "code",
   "execution_count": 15,
   "metadata": {},
   "outputs": [],
   "source": [
    "org_prof_data.loc[org_prof_data['Profession'] == 'Medical Doctor','Profession'] = 'Doctor'\n"
   ]
  },
  {
   "cell_type": "code",
   "execution_count": 16,
   "metadata": {},
   "outputs": [
    {
     "data": {
      "text/plain": [
       "Work Pressure\n",
       "2.0    24372\n",
       "4.0    22512\n",
       "5.0    22434\n",
       "3.0    21899\n",
       "1.0    21562\n",
       "Name: count, dtype: int64"
      ]
     },
     "execution_count": 16,
     "metadata": {},
     "output_type": "execute_result"
    }
   ],
   "source": [
    "org_prof_data['Work Pressure'].value_counts()\n"
   ]
  },
  {
   "cell_type": "code",
   "execution_count": 17,
   "metadata": {},
   "outputs": [
    {
     "data": {
      "text/plain": [
       "Job Satisfaction\n",
       "2.0    24780\n",
       "5.0    22812\n",
       "1.0    22322\n",
       "3.0    21950\n",
       "4.0    20918\n",
       "Name: count, dtype: int64"
      ]
     },
     "execution_count": 17,
     "metadata": {},
     "output_type": "execute_result"
    }
   ],
   "source": [
    "org_prof_data['Job Satisfaction'].value_counts()\n"
   ]
  },
  {
   "cell_type": "code",
   "execution_count": 18,
   "metadata": {},
   "outputs": [
    {
     "data": {
      "text/plain": [
       "Sleep Duration\n",
       "Less than 5 hours    30474\n",
       "7-8 hours            29623\n",
       "More than 8 hours    26682\n",
       "5-6 hours            25959\n",
       "3-4 hours               10\n",
       "4-5 hours                6\n",
       "4-6 hours                5\n",
       "No                       4\n",
       "6-8 hours                4\n",
       "6-7 hours                4\n",
       "1-6 hours                4\n",
       "2-3 hours                3\n",
       "Unhealthy                2\n",
       "9-11 hours               2\n",
       "8-9 hours                2\n",
       "Sleep_Duration           2\n",
       "Pune                     1\n",
       "9-5                      1\n",
       "45-48 hours              1\n",
       "3-6 hours                1\n",
       "Work_Study_Hours         1\n",
       "1-3 hours                1\n",
       "49 hours                 1\n",
       "10-6 hours               1\n",
       "35-36 hours              1\n",
       "45                       1\n",
       "Indore                   1\n",
       "9-6 hours                1\n",
       "9-5 hours                1\n",
       "Name: count, dtype: int64"
      ]
     },
     "execution_count": 18,
     "metadata": {},
     "output_type": "execute_result"
    }
   ],
   "source": [
    "org_prof_data['Sleep Duration'].value_counts()\n"
   ]
  },
  {
   "cell_type": "code",
   "execution_count": 24,
   "metadata": {},
   "outputs": [],
   "source": [
    "org_prof_data.loc[org_prof_data['Sleep Duration'] == '2-3 hours','Sleep Duration'] = 'Less than 5 hours'\n",
    "org_prof_data.loc[org_prof_data['Sleep Duration'] == '3-4 hours','Sleep Duration'] = 'Less than 5 hours'\n",
    "org_prof_data.loc[org_prof_data['Sleep Duration'] == '1-2 hours','Sleep Duration'] = 'Less than 5 hours'\n",
    "org_prof_data.loc[org_prof_data['Sleep Duration'] == '4-5 hours','Sleep Duration'] = 'Less than 5 hours'\n",
    "org_prof_data.loc[org_prof_data['Sleep Duration'] == '4-6 hours','Sleep Duration'] = 'Less than 5 hours'\n",
    "org_prof_data.loc[org_prof_data['Sleep Duration'] == '1-6 hours','Sleep Duration'] = 'Less than 5 hours'\n",
    "org_prof_data.loc[org_prof_data['Sleep Duration'] == '2-3 hours','Sleep Duration'] = 'Less than 5 hours'\n",
    "org_prof_data.loc[org_prof_data['Sleep Duration'] == 'Unhealthy','Sleep Duration'] = 'Less than 5 hours'\n",
    "org_prof_data.loc[org_prof_data['Sleep Duration'] == '3-6 hours','Sleep Duration'] = 'Less than 5 hours'\n",
    "org_prof_data.loc[org_prof_data['Sleep Duration'] == '1-3 hours','Sleep Duration'] = 'Less than 5 hours'\n",
    "\n",
    "\n",
    "org_prof_data.loc[org_prof_data['Sleep Duration'] == '6-8 hours','Sleep Duration'] = '7-8 hours'\n",
    "org_prof_data.loc[org_prof_data['Sleep Duration'] == '10-6 hours','Sleep Duration'] = '7-8 hours'\n",
    "org_prof_data.loc[org_prof_data['Sleep Duration'] == '9-6 hours','Sleep Duration'] = '7-8 hours'\n",
    "\n",
    "\n",
    "org_prof_data.loc[org_prof_data['Sleep Duration'] == '6-7 hours','Sleep Duration'] = '5-6 hours'\n",
    "org_prof_data.loc[org_prof_data['Sleep Duration'] == '9-5 hours','Sleep Duration'] = '5-6 hours'\n",
    "org_prof_data.loc[org_prof_data['Sleep Duration'] == '9-5 hours','Sleep Duration'] = '5-6 hours'\n",
    "org_prof_data.loc[org_prof_data['Sleep Duration'] == '9-5','Sleep Duration'] = '5-6 hours'\n",
    "\n",
    "\n",
    "\n",
    "org_prof_data.loc[org_prof_data['Sleep Duration'] == '9-11 hours','Sleep Duration'] = 'More than 8 hours'\n",
    "org_prof_data.loc[org_prof_data['Sleep Duration'] == '8-9 hours','Sleep Duration'] = 'More than 8 hours'\n",
    "\n",
    "\n",
    "\n",
    "invalid_values = ['No','Sleep_Duration','Pune','45-48 hours','Work_Study_Hours','49 hours','35-36 hours','45','Indore']\n",
    "org_prof_data = org_prof_data[~org_prof_data['Sleep Duration'].isin(invalid_values)]\n"
   ]
  },
  {
   "cell_type": "code",
   "execution_count": 25,
   "metadata": {},
   "outputs": [
    {
     "data": {
      "text/plain": [
       "Sleep Duration\n",
       "Less than 5 hours    30506\n",
       "7-8 hours            29629\n",
       "More than 8 hours    26686\n",
       "5-6 hours            25965\n",
       "Name: count, dtype: int64"
      ]
     },
     "execution_count": 25,
     "metadata": {},
     "output_type": "execute_result"
    }
   ],
   "source": [
    "org_prof_data['Sleep Duration'].value_counts()\n"
   ]
  },
  {
   "cell_type": "code",
   "execution_count": 26,
   "metadata": {},
   "outputs": [
    {
     "data": {
      "text/plain": [
       "Dietary Habits\n",
       "Moderate        39779\n",
       "Healthy         37086\n",
       "Unhealthy       35906\n",
       "More Healthy        2\n",
       "No                  2\n",
       "Yes                 1\n",
       "Pratham             1\n",
       "BSc                 1\n",
       "Gender              1\n",
       "Hormonal            1\n",
       "Electrician         1\n",
       "Vegas               1\n",
       "Indoor              1\n",
       "Class 12            1\n",
       "Name: count, dtype: int64"
      ]
     },
     "execution_count": 26,
     "metadata": {},
     "output_type": "execute_result"
    }
   ],
   "source": [
    "org_prof_data['Dietary Habits'].value_counts()\n"
   ]
  },
  {
   "cell_type": "code",
   "execution_count": 28,
   "metadata": {},
   "outputs": [],
   "source": [
    "org_prof_data.loc[org_prof_data['Dietary Habits'] == 'More Healthy','Dietary Habits'] = 'Healthy'\n",
    "\n",
    "invalid_values = ['No','Yes','Pratham','BSc','Gender','Hormonal','Electrician','Vegas','Indoor','Class 12']\n",
    "org_prof_data = org_prof_data[~org_prof_data['Dietary Habits'].isin(invalid_values)]\n",
    "\n"
   ]
  },
  {
   "cell_type": "code",
   "execution_count": 29,
   "metadata": {},
   "outputs": [
    {
     "data": {
      "text/plain": [
       "Dietary Habits\n",
       "Moderate     39779\n",
       "Healthy      37088\n",
       "Unhealthy    35906\n",
       "Name: count, dtype: int64"
      ]
     },
     "execution_count": 29,
     "metadata": {},
     "output_type": "execute_result"
    }
   ],
   "source": [
    "org_prof_data['Dietary Habits'].value_counts()\n"
   ]
  },
  {
   "cell_type": "code",
   "execution_count": 30,
   "metadata": {},
   "outputs": [
    {
     "data": {
      "text/plain": [
       "Degree\n",
       "B.Ed                    9824\n",
       "Class 12                8648\n",
       "B.Arch                  7264\n",
       "B.Com                   6607\n",
       "B.Pharm                 5044\n",
       "M.Ed                    4847\n",
       "BBA                     4334\n",
       "BCA                     4304\n",
       "MCA                     4187\n",
       "LLM                     4164\n",
       "BSc                     4136\n",
       "M.Pharm                 3955\n",
       "MSc                     3688\n",
       "LLB                     3674\n",
       "M.Tech                  3453\n",
       "ME                      3447\n",
       "BHM                     3380\n",
       "B.Tech                  3273\n",
       "MBA                     3255\n",
       "BA                      3149\n",
       "MHM                     3095\n",
       "MD                      2809\n",
       "PhD                     2580\n",
       "BE                      2491\n",
       "MBBS                    2384\n",
       "M.Com                   2359\n",
       "MA                      2343\n",
       "M.Arch                     5\n",
       "UX/UI Designer             4\n",
       "Kalyan                     3\n",
       "MEd                        2\n",
       "M                          2\n",
       "LLBA                       2\n",
       "Degree                     2\n",
       "Nalini                     2\n",
       "BEd                        2\n",
       "B.Sc                       2\n",
       "BPharm                     1\n",
       "LL B.Ed                    1\n",
       "Pihu                       1\n",
       "BB                         1\n",
       "Jhanvi                     1\n",
       "LLTech                     1\n",
       "Aarav                      1\n",
       "Entrepreneur               1\n",
       "Lata                       1\n",
       "S.Arch                     1\n",
       "HCA                        1\n",
       "5.88                       1\n",
       "M.S                        1\n",
       "Navya                      1\n",
       "Mahika                     1\n",
       "Mihir                      1\n",
       "ACA                        1\n",
       "K.Ed                       1\n",
       "B.3.79                     1\n",
       "RCA                        1\n",
       "Working Professional       1\n",
       "LLS                        1\n",
       "Doctor                     1\n",
       "N.Pharm                    1\n",
       "B B.Com                    1\n",
       "M_Tech                     1\n",
       "Vrinda                     1\n",
       "B.B.Arch                   1\n",
       "P.Com                      1\n",
       "Veda                       1\n",
       "H_Pharm                    1\n",
       "Business Analyst           1\n",
       "LL.Com                     1\n",
       "Data Scientist             1\n",
       "MPharm                     1\n",
       "L.Ed                       1\n",
       "P.Pharm                    1\n",
       "HR Manager                 1\n",
       "S.Pharm                    1\n",
       "M. Business Analyst        1\n",
       "Bhavesh                    1\n",
       "LLCom                      1\n",
       "29                         1\n",
       "MTech                      1\n",
       "Plumber                    1\n",
       "5.61                       1\n",
       "B.03                       1\n",
       "Ritik                      1\n",
       "5.56                       1\n",
       "B BA                       1\n",
       "BArch                      1\n",
       "Bhopal                     1\n",
       "Advait                     1\n",
       "Name: count, dtype: int64"
      ]
     },
     "execution_count": 30,
     "metadata": {},
     "output_type": "execute_result"
    }
   ],
   "source": [
    "org_prof_data['Degree'].value_counts()\n"
   ]
  },
  {
   "cell_type": "code",
   "execution_count": 31,
   "metadata": {},
   "outputs": [],
   "source": [
    "org_prof_data.loc[org_prof_data['Degree'] == 'Doctor','Degree'] = 'MD'\n",
    "\n",
    "invalid_values = ['M','BB','B.3.79','5.88','29','5.61','B.03','5.56']\n",
    "org_prof_data = org_prof_data[~org_prof_data['Degree'].isin(invalid_values)]\n"
   ]
  },
  {
   "cell_type": "code",
   "execution_count": 32,
   "metadata": {},
   "outputs": [
    {
     "data": {
      "text/plain": [
       "Degree\n",
       "B.Ed                    9824\n",
       "Class 12                8648\n",
       "B.Arch                  7264\n",
       "B.Com                   6607\n",
       "B.Pharm                 5044\n",
       "M.Ed                    4847\n",
       "BBA                     4334\n",
       "BCA                     4304\n",
       "MCA                     4187\n",
       "LLM                     4164\n",
       "BSc                     4136\n",
       "M.Pharm                 3955\n",
       "MSc                     3688\n",
       "LLB                     3674\n",
       "M.Tech                  3453\n",
       "ME                      3447\n",
       "BHM                     3380\n",
       "B.Tech                  3273\n",
       "MBA                     3255\n",
       "BA                      3149\n",
       "MHM                     3095\n",
       "MD                      2810\n",
       "PhD                     2580\n",
       "BE                      2491\n",
       "MBBS                    2384\n",
       "M.Com                   2359\n",
       "MA                      2343\n",
       "M.Arch                     5\n",
       "UX/UI Designer             4\n",
       "Kalyan                     3\n",
       "B.Sc                       2\n",
       "MEd                        2\n",
       "LLBA                       2\n",
       "BEd                        2\n",
       "Degree                     2\n",
       "Nalini                     2\n",
       "BPharm                     1\n",
       "LL B.Ed                    1\n",
       "Pihu                       1\n",
       "Jhanvi                     1\n",
       "LLTech                     1\n",
       "Aarav                      1\n",
       "Entrepreneur               1\n",
       "Lata                       1\n",
       "S.Arch                     1\n",
       "HCA                        1\n",
       "M.S                        1\n",
       "RCA                        1\n",
       "Navya                      1\n",
       "ACA                        1\n",
       "Mahika                     1\n",
       "K.Ed                       1\n",
       "Mihir                      1\n",
       "Working Professional       1\n",
       "LLS                        1\n",
       "N.Pharm                    1\n",
       "B B.Com                    1\n",
       "M_Tech                     1\n",
       "P.Pharm                    1\n",
       "B.B.Arch                   1\n",
       "P.Com                      1\n",
       "Veda                       1\n",
       "H_Pharm                    1\n",
       "Business Analyst           1\n",
       "LL.Com                     1\n",
       "Data Scientist             1\n",
       "MPharm                     1\n",
       "L.Ed                       1\n",
       "HR Manager                 1\n",
       "S.Pharm                    1\n",
       "Vrinda                     1\n",
       "M. Business Analyst        1\n",
       "Bhavesh                    1\n",
       "LLCom                      1\n",
       "MTech                      1\n",
       "Plumber                    1\n",
       "Ritik                      1\n",
       "B BA                       1\n",
       "BArch                      1\n",
       "Bhopal                     1\n",
       "Advait                     1\n",
       "Name: count, dtype: int64"
      ]
     },
     "execution_count": 32,
     "metadata": {},
     "output_type": "execute_result"
    }
   ],
   "source": [
    "org_prof_data['Degree'].value_counts()\n"
   ]
  },
  {
   "cell_type": "code",
   "execution_count": 33,
   "metadata": {},
   "outputs": [
    {
     "data": {
      "text/plain": [
       "Have you ever had suicidal thoughts ?\n",
       "No     60874\n",
       "Yes    51892\n",
       "Name: count, dtype: int64"
      ]
     },
     "execution_count": 33,
     "metadata": {},
     "output_type": "execute_result"
    }
   ],
   "source": [
    "org_prof_data['Have you ever had suicidal thoughts ?'].value_counts()\n"
   ]
  },
  {
   "cell_type": "code",
   "execution_count": 34,
   "metadata": {},
   "outputs": [
    {
     "data": {
      "text/plain": [
       "Work/Study Hours\n",
       "9.0     10681\n",
       "0.0     10365\n",
       "10.0     9964\n",
       "11.0     9935\n",
       "2.0      9003\n",
       "1.0      8649\n",
       "12.0     8236\n",
       "6.0      8180\n",
       "5.0      8037\n",
       "3.0      8001\n",
       "7.0      7870\n",
       "4.0      7450\n",
       "8.0      6395\n",
       "Name: count, dtype: int64"
      ]
     },
     "execution_count": 34,
     "metadata": {},
     "output_type": "execute_result"
    }
   ],
   "source": [
    "org_prof_data['Work/Study Hours'].value_counts()\n"
   ]
  },
  {
   "cell_type": "code",
   "execution_count": 35,
   "metadata": {},
   "outputs": [
    {
     "data": {
      "text/plain": [
       "Financial Stress\n",
       "2.0    26385\n",
       "1.0    22081\n",
       "4.0    21984\n",
       "5.0    21556\n",
       "3.0    20759\n",
       "Name: count, dtype: int64"
      ]
     },
     "execution_count": 35,
     "metadata": {},
     "output_type": "execute_result"
    }
   ],
   "source": [
    "org_prof_data['Financial Stress'].value_counts()\n"
   ]
  },
  {
   "cell_type": "code",
   "execution_count": 36,
   "metadata": {},
   "outputs": [
    {
     "data": {
      "text/plain": [
       "Family History of Mental Illness\n",
       "Yes    56423\n",
       "No     56343\n",
       "Name: count, dtype: int64"
      ]
     },
     "execution_count": 36,
     "metadata": {},
     "output_type": "execute_result"
    }
   ],
   "source": [
    "org_prof_data['Family History of Mental Illness'].value_counts()\n"
   ]
  }
 ],
 "metadata": {
  "kernelspec": {
   "display_name": "predictorEnv",
   "language": "python",
   "name": "python3"
  },
  "language_info": {
   "codemirror_mode": {
    "name": "ipython",
    "version": 3
   },
   "file_extension": ".py",
   "mimetype": "text/x-python",
   "name": "python",
   "nbconvert_exporter": "python",
   "pygments_lexer": "ipython3",
   "version": "3.10.13"
  }
 },
 "nbformat": 4,
 "nbformat_minor": 2
}
